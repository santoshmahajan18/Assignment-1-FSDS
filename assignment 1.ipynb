{
 "cells": [
  {
   "cell_type": "markdown",
   "id": "2278fe18",
   "metadata": {},
   "source": [
    "Question 1: In the below elements which of them are values or an expression? eg:- values can be integer or string and expressions will be mathematical operators."
   ]
  },
  {
   "cell_type": "code",
   "execution_count": null,
   "id": "98bad37e",
   "metadata": {},
   "outputs": [],
   "source": [
    "# * is an expression\n",
    "# 'hello' is value\n",
    "#-87.8 is a value\n",
    "# - is an expression \n",
    "# / is an expression \n",
    "# +\tis an expression \n",
    "# 6 is a value\n"
   ]
  },
  {
   "cell_type": "markdown",
   "id": "30a89a82",
   "metadata": {},
   "source": [
    "Question 2: What is the difference between string and variable?"
   ]
  },
  {
   "cell_type": "markdown",
   "id": "e9df32f4",
   "metadata": {},
   "source": [
    "Answer 2:\n",
    "A variable is something which is created to store any kind of information such as an integer number, a float number, a complex number or a string.\n",
    "A string is a type of information which can be stored in a variable. For example, a word 'university' can be stored in a variable a. a='university'. Here a is a variable and university is a string which has now been stored in the variable a."
   ]
  },
  {
   "cell_type": "code",
   "execution_count": 9,
   "id": "767087f3",
   "metadata": {},
   "outputs": [
    {
     "name": "stdout",
     "output_type": "stream",
     "text": [
      "<class 'str'>\n"
     ]
    }
   ],
   "source": [
    "# variable stores any kind of information\n",
    "a=10\n",
    "# string is a type of information that can be stored in a variable\n",
    "b='country'\n",
    "print(type(b))"
   ]
  },
  {
   "cell_type": "markdown",
   "id": "4af18bae",
   "metadata": {},
   "source": [
    "Question 3: Describe three different data types."
   ]
  },
  {
   "cell_type": "markdown",
   "id": "daba1702",
   "metadata": {},
   "source": [
    "Anser 3: Different type of data types are:\n",
    "1. Numeric: These can be integers (example: 1, 2, -4), float (example: 12.3, 15.67), complex (example: -4+5j)\n",
    "2. Sequence: this type helps us to store multiple values in an organized way. Different types in sequence data types are:\n",
    "a. List (example: [1,5,6],['apple','peach','mango'] \n",
    "b. tuple (example: (4,6,8)\n",
    "c. string (example: 'country')\n",
    "3. Dictionary: this has key and value pairs. Example (['a': \"cat','b':'dog,'c':'tiger'])\n",
    "4. Boolean: True or False\n",
    "5. set: colleaction of many objects. Example ({2,4,'lime','china',12}"
   ]
  },
  {
   "cell_type": "code",
   "execution_count": null,
   "id": "0d8c5a2a",
   "metadata": {},
   "outputs": [],
   "source": [
    "# numeric data type\n",
    "a=2\n",
    "print(type(a))"
   ]
  },
  {
   "cell_type": "code",
   "execution_count": 6,
   "id": "661f9de3",
   "metadata": {},
   "outputs": [
    {
     "name": "stdout",
     "output_type": "stream",
     "text": [
      "<class 'list'>\n",
      "<class 'tuple'>\n",
      "<class 'str'>\n"
     ]
    }
   ],
   "source": [
    "# sequence data type: list, tuple, string\n",
    "b=[4,5,6]\n",
    "print(type(b))\n",
    "c=(5,4,3)\n",
    "print(type(c))\n",
    "d='country'\n",
    "print(type(d))"
   ]
  },
  {
   "cell_type": "code",
   "execution_count": 5,
   "id": "08bf1d1c",
   "metadata": {},
   "outputs": [
    {
     "name": "stdout",
     "output_type": "stream",
     "text": [
      "<class 'dict'>\n",
      "False\n",
      "<class 'bool'>\n"
     ]
    }
   ],
   "source": [
    "#dictionary data type\n",
    "f={'a':'cat','b':'dog','c':'tiger'}\n",
    "print(type(f))\n",
    "# boolean data type\n",
    "g=12>=13\n",
    "print(g)\n",
    "print(type(g))"
   ]
  },
  {
   "cell_type": "code",
   "execution_count": 8,
   "id": "79b719b1",
   "metadata": {},
   "outputs": [
    {
     "name": "stdout",
     "output_type": "stream",
     "text": [
      "{2, 3, 4, 5, 7, 8}\n",
      "<class 'set'>\n"
     ]
    }
   ],
   "source": [
    "# set data type\n",
    "h={2,3,4,5,3,5,7,8}\n",
    "print(h)\n",
    "print(type(h))"
   ]
  },
  {
   "cell_type": "markdown",
   "id": "011353d6",
   "metadata": {},
   "source": [
    "Question 4: What is an expression made up of? What do all expressions do?"
   ]
  },
  {
   "cell_type": "markdown",
   "id": "22a566ab",
   "metadata": {},
   "source": [
    "An expression is a combination of operators and operand used to provide a result. Type of expressions in python:"
   ]
  },
  {
   "cell_type": "code",
   "execution_count": null,
   "id": "4e2a300e",
   "metadata": {},
   "outputs": [],
   "source": [
    "# 1.constant expression. \n",
    "a=10+2\n",
    "print(a)"
   ]
  },
  {
   "cell_type": "code",
   "execution_count": null,
   "id": "5f68c8ca",
   "metadata": {},
   "outputs": [],
   "source": [
    "# 2. arithmetic expression\n",
    "x=4\n",
    "y=6\n",
    "add=x+y\n",
    "print (add)"
   ]
  },
  {
   "cell_type": "code",
   "execution_count": null,
   "id": "848a52b1",
   "metadata": {},
   "outputs": [],
   "source": [
    "# 3. Ingegral expression: gives integer as a result\n",
    "a=12\n",
    "b=3.4\n",
    "sum=a+int(b)\n",
    "print(sum)"
   ]
  },
  {
   "cell_type": "code",
   "execution_count": null,
   "id": "872dfacb",
   "metadata": {},
   "outputs": [],
   "source": [
    "# 4. Floating expression: these give output as floating numbers\n",
    "c=16\n",
    "d=5\n",
    "div=c/d\n",
    "print(div)"
   ]
  },
  {
   "cell_type": "code",
   "execution_count": null,
   "id": "17022eea",
   "metadata": {},
   "outputs": [],
   "source": [
    "# 5. Relational expression: here the expressions on the left and right side of '=' sign are evaluated and the result\n",
    "# is shown in True or False\n",
    "a=2\n",
    "b=6\n",
    "c=8\n",
    "d=1\n",
    "k=(b-a)>=(c+d)\n",
    "print(k)"
   ]
  },
  {
   "cell_type": "code",
   "execution_count": null,
   "id": "f1cd6ae1",
   "metadata": {},
   "outputs": [],
   "source": [
    "# 6. Logical expression: similar to Relational expression, these result into True or False depending on the logic\n",
    "# we wish to check. We make use of 'and','or','not' operators in these expressions.\n",
    "a=(5==6)\n",
    "b=(8>4)\n",
    "m=a and b\n",
    "print(m)"
   ]
  },
  {
   "cell_type": "code",
   "execution_count": 10,
   "id": "c20d6a2f",
   "metadata": {},
   "outputs": [
    {
     "name": "stdout",
     "output_type": "stream",
     "text": [
      "22\n"
     ]
    }
   ],
   "source": [
    "# Question 5: After running the following code, what does the variable bacon contain?\n",
    "bacon = 22\n",
    "bacon + 1\n",
    "print(bacon)\n",
    "# bacon will still contain value 22 because we are not writing bacon=bacon+1"
   ]
  },
  {
   "cell_type": "code",
   "execution_count": 14,
   "id": "5bf9fac1",
   "metadata": {},
   "outputs": [
    {
     "data": {
      "text/plain": [
       "'spamspamspam'"
      ]
     },
     "execution_count": 14,
     "metadata": {},
     "output_type": "execute_result"
    }
   ],
   "source": [
    "# Question 7. What should the values of the following two terms be?\n",
    "'spam' + 'spamspam'\n",
    "# the two srings will get concatenated\n",
    "\n"
   ]
  },
  {
   "cell_type": "code",
   "execution_count": 16,
   "id": "01766cda",
   "metadata": {},
   "outputs": [
    {
     "data": {
      "text/plain": [
       "'spamspamspam'"
      ]
     },
     "execution_count": 16,
     "metadata": {},
     "output_type": "execute_result"
    }
   ],
   "source": [
    "'spam' * 3\n",
    "# the string 'spam' will concatenated with itself thrice"
   ]
  },
  {
   "cell_type": "code",
   "execution_count": 18,
   "id": "ae2dd408",
   "metadata": {},
   "outputs": [
    {
     "data": {
      "text/plain": [
       "'Question 8: Why is eggs a valid variable name while 100 is invalid?\\nThe term egg can be used to store any type of value say a string, an integer, a float. But 100 is itself an integer \\nvalue which can be stored in any variable.\\n'"
      ]
     },
     "execution_count": 18,
     "metadata": {},
     "output_type": "execute_result"
    }
   ],
   "source": [
    "'''Question 8: Why is eggs a valid variable name while 100 is invalid?\n",
    "The term egg can be used to store any type of value say a string, an integer, a float. But 100 is itself an integer \n",
    "value which can be stored in any variable.\n",
    "'''"
   ]
  },
  {
   "cell_type": "code",
   "execution_count": 19,
   "id": "e13c86ad",
   "metadata": {},
   "outputs": [],
   "source": [
    "# Question 9. What three functions can be used to get the integer, floating-point number, or string version of a value?"
   ]
  },
  {
   "cell_type": "code",
   "execution_count": 22,
   "id": "457c8ab1",
   "metadata": {},
   "outputs": [
    {
     "data": {
      "text/plain": [
       "56.0"
      ]
     },
     "execution_count": 22,
     "metadata": {},
     "output_type": "execute_result"
    }
   ],
   "source": [
    "# Answer 9\n",
    "# use if int() to get the integer value\n",
    "int(12.3)"
   ]
  },
  {
   "cell_type": "code",
   "execution_count": 23,
   "id": "0f0bd178",
   "metadata": {},
   "outputs": [
    {
     "data": {
      "text/plain": [
       "56.0"
      ]
     },
     "execution_count": 23,
     "metadata": {},
     "output_type": "execute_result"
    }
   ],
   "source": [
    "# use of float() to get floating point number\n",
    "float(56)"
   ]
  },
  {
   "cell_type": "code",
   "execution_count": 25,
   "id": "4069d938",
   "metadata": {},
   "outputs": [
    {
     "data": {
      "text/plain": [
       "'12'"
      ]
     },
     "execution_count": 25,
     "metadata": {},
     "output_type": "execute_result"
    }
   ],
   "source": [
    "# use of str() to get string version of a value\n",
    "str(12)"
   ]
  },
  {
   "cell_type": "code",
   "execution_count": 27,
   "id": "75e8e546",
   "metadata": {},
   "outputs": [
    {
     "data": {
      "text/plain": [
       "'I have eaten 99 burritos.'"
      ]
     },
     "execution_count": 27,
     "metadata": {},
     "output_type": "execute_result"
    }
   ],
   "source": [
    "# Question 10. Why does this expression cause an error? How can you fix it?\n",
    "# 'I have eaten ' + 99 + ' burritos.'\n",
    "# this will cause an error because we are trying to contatenate a string with an integer which is not allowed\n",
    "# in python. To concatenate these three, we should have all these three in string format:\n",
    "'I have eaten ' + '99' + ' burritos.'\n"
   ]
  },
  {
   "cell_type": "code",
   "execution_count": null,
   "id": "92e44092",
   "metadata": {},
   "outputs": [],
   "source": []
  }
 ],
 "metadata": {
  "kernelspec": {
   "display_name": "Python 3 (ipykernel)",
   "language": "python",
   "name": "python3"
  },
  "language_info": {
   "codemirror_mode": {
    "name": "ipython",
    "version": 3
   },
   "file_extension": ".py",
   "mimetype": "text/x-python",
   "name": "python",
   "nbconvert_exporter": "python",
   "pygments_lexer": "ipython3",
   "version": "3.9.7"
  }
 },
 "nbformat": 4,
 "nbformat_minor": 5
}
